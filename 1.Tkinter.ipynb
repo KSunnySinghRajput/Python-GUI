{
 "cells": [
  {
   "cell_type": "markdown",
   "id": "welcome-alaska",
   "metadata": {},
   "source": [
    "\n",
    "# _Tkinter_"
   ]
  },
  {
   "cell_type": "markdown",
   "id": "senior-canal",
   "metadata": {},
   "source": [
    "- Tk was written by John Ousterhout while at Berkeley.\n",
    "\n",
    "- Tkinter was written by Steen Lumholt and Guido van Rossum.\n",
    "- This Life Preserver was written by Matt Conway at the University of Virginia.\n",
    "\n",
    "- The HTML rendering, and some liberal editing, was produced from a FrameMaker version by Ken Manheimer.\n",
    "\n",
    "- Fredrik Lundh elaborated and revised the class interface descriptions, to get them current with Tk 4.2.\n",
    "\n",
    "- Mike Clarkson converted the documentation to LaTeX, and compiled the User Interface chapter of the reference manual."
   ]
  },
  {
   "cell_type": "code",
   "execution_count": 2,
   "id": "enabling-hypothesis",
   "metadata": {},
   "outputs": [
    {
     "name": "stdout",
     "output_type": "stream",
     "text": [
      "TK Version  :  8.6\n",
      "TCL Version :  8.6\n"
     ]
    }
   ],
   "source": [
    "try:    \n",
    "    # python 3.x\n",
    "    from tkinter import *\n",
    "    from tkinter.ttk import *\n",
    "    import tkinter  as tk\n",
    "    \n",
    "except ImportError:        \n",
    "    # python 2.x\n",
    "    from Tkinter import *\n",
    "    import Tkinter  as tk\n",
    "    \n",
    "print(\"TK Version  : \" , tk.TkVersion)\n",
    "print(\"TCL Version : \" , tk.TclVersion)"
   ]
  },
  {
   "cell_type": "code",
   "execution_count": 3,
   "id": "effective-mainstream",
   "metadata": {},
   "outputs": [],
   "source": [
    "from PIL import Image, ImageTk"
   ]
  },
  {
   "cell_type": "markdown",
   "id": "ceramic-intelligence",
   "metadata": {},
   "source": [
    "**1.Frame**"
   ]
  },
  {
   "cell_type": "code",
   "execution_count": 112,
   "id": "treated-twins",
   "metadata": {},
   "outputs": [],
   "source": [
    "top = Tk()\n",
    "# Code to add widgets will go here...\n",
    "top.mainloop()"
   ]
  },
  {
   "cell_type": "markdown",
   "id": "driving-operation",
   "metadata": {},
   "source": [
    "**2.Icon**"
   ]
  },
  {
   "cell_type": "code",
   "execution_count": 111,
   "id": "protecting-inflation",
   "metadata": {},
   "outputs": [],
   "source": [
    "top = Tk()\n",
    "file=\"img/tk.png\"\n",
    "# file_data=Image.open( \"img/tk.png\")\n",
    "photo = ImageTk.PhotoImage(file =file)\n",
    "top.iconphoto(False, photo)\n",
    "top.mainloop()"
   ]
  },
  {
   "cell_type": "markdown",
   "id": "built-prophet",
   "metadata": {},
   "source": [
    "**3.Tk config**"
   ]
  },
  {
   "cell_type": "raw",
   "id": "loved-embassy",
   "metadata": {},
   "source": [
    "# Screen Size retun\n",
    "top.winfo_screenwidth(),\n",
    "top.winfo_screenheight()\n",
    "top.winfo_geometry()\n",
    "top.winfo_width()\n",
    "top.winfo_height()"
   ]
  },
  {
   "cell_type": "code",
   "execution_count": 12,
   "id": "fatal-throat",
   "metadata": {},
   "outputs": [],
   "source": [
    "top = Tk()\n",
    "\n",
    "screen_h=top.winfo_screenheight()\n",
    "screen_w=top.winfo_screenwidth()\n",
    "\n",
    "\n",
    "app_w=800\n",
    "app_h=600\n",
    "app_x=screen_w/2 - app_w/2\n",
    "app_y= screen_h/2 - app_h/2\n",
    "\n",
    "top.title(\"Application\")\n",
    "top.geometry(\"{}x{}+{}+{}\".format(app_w,app_h,int(app_x),int(app_y)))  \n",
    "top.minsize(200, 100)\n",
    "top.maxsize(screen_w,screen_h)\n",
    "# top.overrideredirect(1)\n",
    "# top.attributes(\"-alpha\", 0.3)\n",
    "# top.wm_attributes(\"-transparentcolor\", \"blue\")\n",
    "# top.resizable(False, False)  # This code helps to disable windows from resizing\n",
    "top.state('zoomed')\n",
    "\n",
    "top.attributes(\"-fullscreen\", 1)\n",
    "# top['background'] = '#58F'\n",
    "top.configure(background='White')\n",
    "# top.config(bg=\"dodger blue\")\n",
    "top.mainloop()"
   ]
  },
  {
   "cell_type": "markdown",
   "id": "underlying-rover",
   "metadata": {},
   "source": [
    "**Tk setting**"
   ]
  },
  {
   "cell_type": "code",
   "execution_count": 14,
   "id": "everyday-class",
   "metadata": {},
   "outputs": [
    {
     "name": "stdout",
     "output_type": "stream",
     "text": [
      "{'bd': ('bd', '-borderwidth'), 'borderwidth': ('borderwidth', 'borderWidth', 'BorderWidth', <string object: '0'>, 0), 'class': ('class', 'class', 'Class', 'Toplevel', 'Tk'), 'menu': ('menu', 'menu', 'Menu', '', ''), 'relief': ('relief', 'relief', 'Relief', <string object: 'flat'>, 'flat'), 'screen': ('screen', 'screen', 'Screen', '', ''), 'use': ('use', 'use', 'Use', '', ''), 'background': ('background', 'background', 'Background', <string object: 'SystemButtonFace'>, 'SystemButtonFace'), 'bg': ('bg', '-background'), 'colormap': ('colormap', 'colormap', 'Colormap', '', ''), 'container': ('container', 'container', 'Container', 0, 0), 'cursor': ('cursor', 'cursor', 'Cursor', '', ''), 'height': ('height', 'height', 'Height', <string object: '0'>, 0), 'highlightbackground': ('highlightbackground', 'highlightBackground', 'HighlightBackground', <string object: 'SystemButtonFace'>, 'SystemButtonFace'), 'highlightcolor': ('highlightcolor', 'highlightColor', 'HighlightColor', <string object: 'SystemWindowFrame'>, 'SystemWindowFrame'), 'highlightthickness': ('highlightthickness', 'highlightThickness', 'HighlightThickness', <string object: '0'>, 0), 'padx': ('padx', 'padX', 'Pad', <string object: '0'>, <string object: '0'>), 'pady': ('pady', 'padY', 'Pad', <string object: '0'>, <string object: '0'>), 'takefocus': ('takefocus', 'takeFocus', 'TakeFocus', '0', '0'), 'visual': ('visual', 'visual', 'Visual', '', ''), 'width': ('width', 'width', 'Width', <string object: '0'>, 0)}\n"
     ]
    }
   ],
   "source": [
    "root=Tk()\n",
    "print(root.config())\n",
    "root.mainloop()"
   ]
  },
  {
   "cell_type": "code",
   "execution_count": 17,
   "id": "moving-complex",
   "metadata": {},
   "outputs": [
    {
     "name": "stdout",
     "output_type": "stream",
     "text": [
      "{'activebackground': ('activebackground', 'activeBackground', 'Foreground', <string object: 'SystemButtonFace'>, 'SystemButtonFace'), 'activeforeground': ('activeforeground', 'activeForeground', 'Background', <string object: 'SystemButtonText'>, 'SystemButtonText'), 'anchor': ('anchor', 'anchor', 'Anchor', <string object: 'center'>, 'center'), 'background': ('background', 'background', 'Background', <string object: 'SystemButtonFace'>, 'SystemButtonFace'), 'bd': ('bd', '-borderwidth'), 'bg': ('bg', '-background'), 'bitmap': ('bitmap', 'bitmap', 'Bitmap', '', ''), 'borderwidth': ('borderwidth', 'borderWidth', 'BorderWidth', <string object: '2'>, <string object: '2'>), 'command': ('command', 'command', 'Command', '', ''), 'compound': ('compound', 'compound', 'Compound', <string object: 'none'>, 'none'), 'cursor': ('cursor', 'cursor', 'Cursor', '', ''), 'default': ('default', 'default', 'Default', <string object: 'disabled'>, 'disabled'), 'disabledforeground': ('disabledforeground', 'disabledForeground', 'DisabledForeground', <string object: 'SystemDisabledText'>, 'SystemDisabledText'), 'fg': ('fg', '-foreground'), 'font': ('font', 'font', 'Font', <string object: 'TkDefaultFont'>, 'TkDefaultFont'), 'foreground': ('foreground', 'foreground', 'Foreground', <string object: 'SystemButtonText'>, 'SystemButtonText'), 'height': ('height', 'height', 'Height', 0, 0), 'highlightbackground': ('highlightbackground', 'highlightBackground', 'HighlightBackground', <string object: 'SystemButtonFace'>, 'SystemButtonFace'), 'highlightcolor': ('highlightcolor', 'highlightColor', 'HighlightColor', <string object: 'SystemWindowFrame'>, 'SystemWindowFrame'), 'highlightthickness': ('highlightthickness', 'highlightThickness', 'HighlightThickness', <string object: '1'>, <string object: '1'>), 'image': ('image', 'image', 'Image', '', ''), 'justify': ('justify', 'justify', 'Justify', <string object: 'center'>, 'center'), 'overrelief': ('overrelief', 'overRelief', 'OverRelief', '', ''), 'padx': ('padx', 'padX', 'Pad', <string object: '1'>, <string object: '1'>), 'pady': ('pady', 'padY', 'Pad', <string object: '1'>, <string object: '1'>), 'relief': ('relief', 'relief', 'Relief', <string object: 'raised'>, 'raised'), 'repeatdelay': ('repeatdelay', 'repeatDelay', 'RepeatDelay', 0, 0), 'repeatinterval': ('repeatinterval', 'repeatInterval', 'RepeatInterval', 0, 0), 'state': ('state', 'state', 'State', <string object: 'normal'>, 'normal'), 'takefocus': ('takefocus', 'takeFocus', 'TakeFocus', '', ''), 'text': ('text', 'text', 'Text', '', ''), 'textvariable': ('textvariable', 'textVariable', 'Variable', '', ''), 'underline': ('underline', 'underline', 'Underline', -1, -1), 'width': ('width', 'width', 'Width', 0, 0), 'wraplength': ('wraplength', 'wrapLength', 'WrapLength', <string object: '0'>, <string object: '0'>)}\n"
     ]
    }
   ],
   "source": [
    "root = tk.Tk()\n",
    "fred = tk.Button(root)\n",
    "print(fred.config())\n",
    "fred.config(fg=\"red\", bg=\"blue\")\n",
    "fred.pack() \n",
    "root.mainloop()"
   ]
  },
  {
   "cell_type": "markdown",
   "id": "difficult-laptop",
   "metadata": {},
   "source": [
    "**4. Label Entry**"
   ]
  },
  {
   "cell_type": "code",
   "execution_count": 18,
   "id": "blond-least",
   "metadata": {},
   "outputs": [],
   "source": [
    "window  = Tk()\n",
    "a = Label(window ,text = \"First Name\")\n",
    "a.grid(row = 0,column = 0)\n",
    "\n",
    "b = Label(window ,text = \"Last Name\").grid(row = 1,column = 0)\n",
    "c = Label(window ,text = \"Email Id\").grid(row = 2,column = 0)\n",
    "d = Label(window ,text = \"Contact Number\").grid(row = 3,column = 0)\n",
    "\n",
    "\n",
    "a1 = Entry(window).grid(row = 0,column = 1)\n",
    "b1 = Entry(window).grid(row = 1,column = 1)\n",
    "c1 = Entry(window).grid(row = 2,column = 1)\n",
    "d1 = Entry(window).grid(row = 3,column = 1)\n",
    "btn = Button(window ,text=\"Submit\").grid(row=4,column=0)\n",
    "\n",
    "window .mainloop()"
   ]
  },
  {
   "cell_type": "markdown",
   "id": "partial-crystal",
   "metadata": {},
   "source": [
    "**5.Button**"
   ]
  },
  {
   "cell_type": "code",
   "execution_count": 19,
   "id": "lasting-validity",
   "metadata": {},
   "outputs": [
    {
     "name": "stdout",
     "output_type": "stream",
     "text": [
      "hello Friend\n",
      "hello Friend\n",
      "hello Friend\n",
      "hello Friend\n",
      "hello Friend\n",
      "hello Friend\n",
      "hello Friend\n",
      "hello Friend\n",
      "hello Friend\n",
      "hello Friend\n"
     ]
    }
   ],
   "source": [
    "def hello():\n",
    "    print('hello Friend')\n",
    "window  = Tk()\n",
    "Button(window, text=\"Say hello\", command= hello).grid(row = 3,column = 1)\n",
    "window .mainloop()"
   ]
  },
  {
   "cell_type": "markdown",
   "id": "paperback-annex",
   "metadata": {},
   "source": [
    "**Input Form**"
   ]
  },
  {
   "cell_type": "code",
   "execution_count": 32,
   "id": "finished-harassment",
   "metadata": {},
   "outputs": [],
   "source": [
    "\n",
    "\n",
    "# def liveFeed(*args):\n",
    "#     text = \"First Name : {}\".format(Fname.get()) if Fname.get() else \"\" \n",
    "#     text+= \"Last  Name : {}\".format(Lname.get()) if Lname.get() else \"\" \n",
    "#     print(text)\n",
    "#     label.config(text=text) \n",
    "    \n",
    "\n",
    "def reset():\n",
    "    Fname.set('')\n",
    "    Lname.set('')\n",
    "    \n",
    "def submit():\n",
    "    text = \"First Name : {}\\n\".format(Fname.get()) if Fname.get() else \"\" \n",
    "    text+= \"Last  Name : {}\".format(Lname.get()) if Lname.get() else \"\" \n",
    "    if text:\n",
    "        print(text)\n",
    "        reset()\n",
    "    \n",
    "window  = Tk()\n",
    "Label(window, text=\"First Name\").grid(row=0,column=0)\n",
    "Lname_label = Label(window, text=\"Last Name\").grid(row=2,column=0)\n",
    "\n",
    "Fname = StringVar()\n",
    "Lname = StringVar()\n",
    "\n",
    "# Fname.trace(\"w\", liveFeed) \n",
    "# Lname.trace(\"w\", liveFeed) \n",
    "\n",
    "Fname_entry   = Entry(window, textvariable = Fname).grid(row=0,column=2)\n",
    "Lname_entry   = Entry(window, textvariable = Lname).grid(row=2,column=2)\n",
    "\n",
    "Button(window, text=\"Submit\", command=submit).grid(row = 4,column = 0)\n",
    "Button(window, text=\"Reset\", command=reset).grid(row = 4,column = 1)\n",
    "Button(window, text=\"Exit\", command=window.destroy).grid(row = 4,column = 2)\n",
    "\n",
    "\n",
    "label = Label(window)\n",
    "label.grid(row = 0,column = 3)\n",
    "\n",
    "window.mainloop()"
   ]
  },
  {
   "cell_type": "code",
   "execution_count": 33,
   "id": "legislative-hanging",
   "metadata": {},
   "outputs": [],
   "source": [
    "from tkinter import *\n",
    "fields = ('Annual Rate', 'Number of Payments',\n",
    "          'Loan Principle', 'Monthly Payment', 'Remaining Loan')\n",
    "\n",
    "\n",
    "def monthly_payment(entries):\n",
    "    # period rate:\n",
    "    r = (float(entries['Annual Rate'].get()) / 100) / 12\n",
    "    print(\"r\", r)\n",
    "    # principal loan:\n",
    "    loan = float(entries['Loan Principle'].get())\n",
    "    n = float(entries['Number of Payments'].get())\n",
    "    remaining_loan = float(entries['Remaining Loan'].get())\n",
    "    q = (1 + r) ** n\n",
    "    monthly = r * ((q * loan - remaining_loan) / (q - 1))\n",
    "    monthly = (\"%8.2f\" % monthly).strip()\n",
    "    entries['Monthly Payment'].delete(0, END)\n",
    "    entries['Monthly Payment'].insert(0, monthly)\n",
    "    print(\"Monthly Payment: %f\" % float(monthly))\n",
    "\n",
    "\n",
    "def final_balance(entries):\n",
    "    # period rate:\n",
    "    r = (float(entries['Annual Rate'].get()) / 100) / 12\n",
    "    print(\"r\", r)\n",
    "    # principal loan:\n",
    "    loan = float(entries['Loan Principle'].get())\n",
    "    n = float(entries['Number of Payments'].get())\n",
    "    q = (1 + r) ** n\n",
    "    monthly = float(entries['Monthly Payment'].get())\n",
    "    q = (1 + r) ** n\n",
    "    rema\n",
    "    root.bind('<Return>', (lambda event, e=ents: fetch(e)))\n",
    "    b1 = Button(root, text='Final Balance',\n",
    "                command=(lambda e=ents: final_balance(e)))\n",
    "    b1.pack(side=LEFT, padx=5, pady=5)\n",
    "    b2 = Button(root, text='Monthly Payment',\n",
    "                command=(lambda e=ents: monthly_payment(e)))\n",
    "    b2.pack(side=LEFT, padx=5, pady=5)\n",
    "    b3 = Button(root, text='Quit', command=root.quit)\n",
    "    b3.pack(side=LEFT, padx=5, pady=5)\n",
    "    root.mainloop()\n",
    "    \n",
    "    ining = q * loan - ((q - 1) / r) * monthly\n",
    "    remaining = (\"%8.2f\" % remaining).strip()\n",
    "    entries['Remaining Loan'].delete(0, END)\n",
    "    entries['Remaining Loan'].insert(0, remaining)\n",
    "    print(\"Remaining Loan: %f\" % float(remaining))\n",
    "\n",
    "\n",
    "def makeform(root, fields):\n",
    "    entries = {}\n",
    "    for field in fields:\n",
    "        row = Frame(root)\n",
    "        lab = Label(row, width=22, text=field+\": \", anchor='w')\n",
    "        ent = Entry(row)\n",
    "        ent.insert(0, \"0\")\n",
    "        row.pack(side=TOP, fill=X, padx=5, pady=5)\n",
    "        lab.pack(side=LEFT)\n",
    "        ent.pack(side=RIGHT, expand=YES, fill=X)\n",
    "        entries[field] = ent\n",
    "    return entries\n",
    "\n",
    "\n",
    "if __name__ == '__main__':\n",
    "    root = Tk()\n",
    "    ents = makeform(root, fields)\n",
    "    root.bind('<Return>', (lambda event, e=ents: fetch(e)))\n",
    "    b1 = Button(root, text='Final Balance',\n",
    "                command=(lambda e=ents: final_balance(e)))\n",
    "    b1.pack(side=LEFT, padx=5, pady=5)\n",
    "    b2 = Button(root, text='Monthly Payment',\n",
    "                command=(lambda e=ents: monthly_payment(e)))\n",
    "    b2.pack(side=LEFT, padx=5, pady=5)\n",
    "    b3 = Button(root, text='Quit', command=root.quit)\n",
    "    b3.pack(side=LEFT, padx=5, pady=5)\n",
    "    root.mainloop()\n"
   ]
  },
  {
   "cell_type": "code",
   "execution_count": 34,
   "id": "sudden-kenya",
   "metadata": {},
   "outputs": [
    {
     "ename": "NameError",
     "evalue": "name 'filefunction' is not defined",
     "output_type": "error",
     "traceback": [
      "\u001b[1;31m---------------------------------------------------------------------------\u001b[0m",
      "\u001b[1;31mNameError\u001b[0m                                 Traceback (most recent call last)",
      "\u001b[1;32m<ipython-input-34-99721c404cf1>\u001b[0m in \u001b[0;36m<module>\u001b[1;34m\u001b[0m\n\u001b[0;32m      4\u001b[0m \u001b[0mmenubar\u001b[0m \u001b[1;33m=\u001b[0m \u001b[0mMenu\u001b[0m\u001b[1;33m(\u001b[0m\u001b[0mroot\u001b[0m\u001b[1;33m)\u001b[0m\u001b[1;33m\u001b[0m\u001b[1;33m\u001b[0m\u001b[0m\n\u001b[0;32m      5\u001b[0m \u001b[1;31m# The add_command function use to assign a command to menu to perform some action.\u001b[0m\u001b[1;33m\u001b[0m\u001b[1;33m\u001b[0m\u001b[1;33m\u001b[0m\u001b[0m\n\u001b[1;32m----> 6\u001b[1;33m \u001b[0mmenubar\u001b[0m\u001b[1;33m.\u001b[0m\u001b[0madd_command\u001b[0m\u001b[1;33m(\u001b[0m\u001b[0mlabel\u001b[0m\u001b[1;33m=\u001b[0m\u001b[1;34m\"File\"\u001b[0m\u001b[1;33m,\u001b[0m \u001b[0mcommand\u001b[0m\u001b[1;33m=\u001b[0m\u001b[0mfilefunction\u001b[0m\u001b[1;33m)\u001b[0m\u001b[1;33m\u001b[0m\u001b[1;33m\u001b[0m\u001b[0m\n\u001b[0m\u001b[0;32m      7\u001b[0m \u001b[1;33m\u001b[0m\u001b[0m\n\u001b[0;32m      8\u001b[0m \u001b[1;33m\u001b[0m\u001b[0m\n",
      "\u001b[1;31mNameError\u001b[0m: name 'filefunction' is not defined"
     ]
    }
   ],
   "source": [
    "\n",
    "def filefunction():\n",
    "    print(\"This is the output of file menu\")\n",
    "\n",
    "#Menu - The Menu widget is used to implement toplevel, pulldown, and popup menus. This widget is used to display all kinds of menus used by an application.\n",
    "    \n",
    "root = Tk()\n",
    "menubar = Menu(root)\n",
    "# The add_command function use to assign a command to menu to perform some action.\n",
    "menubar.add_command(label=\"File\", command=filefunction)\n",
    "\n",
    "\n",
    "menubar.add_command(label=\"Exit\", command=root.destroy)\n",
    "# root.config - root.config used to configure root window that all items of menubar works like menu.\n",
    "root.config(menu=menubar)\n",
    "root.mainloop()\n",
    "\n",
    "\n",
    "    "
   ]
  },
  {
   "cell_type": "code",
   "execution_count": null,
   "id": "transsexual-plymouth",
   "metadata": {},
   "outputs": [],
   "source": []
  }
 ],
 "metadata": {
  "kernelspec": {
   "display_name": "Python 3",
   "language": "python",
   "name": "python3"
  },
  "language_info": {
   "codemirror_mode": {
    "name": "ipython",
    "version": 3
   },
   "file_extension": ".py",
   "mimetype": "text/x-python",
   "name": "python",
   "nbconvert_exporter": "python",
   "pygments_lexer": "ipython3",
   "version": "3.7.8"
  }
 },
 "nbformat": 4,
 "nbformat_minor": 5
}
