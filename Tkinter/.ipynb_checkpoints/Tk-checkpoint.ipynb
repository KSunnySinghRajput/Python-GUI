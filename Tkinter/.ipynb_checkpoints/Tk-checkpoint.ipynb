{
 "cells": [
  {
   "cell_type": "code",
   "execution_count": 7,
   "id": "ordinary-durham",
   "metadata": {},
   "outputs": [
    {
     "name": "stdout",
     "output_type": "stream",
     "text": [
      "TK Version  :  8.6\n",
      "TCL Version :  8.6\n"
     ]
    }
   ],
   "source": [
    "try:    \n",
    "    # python 3.x\n",
    "    from tkinter import *\n",
    "    from tkinter.ttk import *\n",
    "    import tkinter  as tkinter\n",
    "    from  tkinter import (  messagebox,\n",
    "                            colorchooser, \n",
    "                            commondialog, \n",
    "                            dnd\n",
    "                            filedialog,\n",
    "                            font, \n",
    "    messagebox, scrolledtext ,simpledialog,   )  \n",
    "\n",
    "    # from tkinter import Tk , BOTH, Botton\n",
    "    # from tkinter.ttk import Frame, Label, Style\n",
    "    \n",
    "except ImportError:        \n",
    "    # python 2.x\n",
    "    from Tkinter import *\n",
    "    import Tkinter  as tk\n",
    "    \n",
    "        \n",
    "print(\"TK Version  : \" , tk.TkVersion)\n",
    "print(\"TCL Version : \" , tk.TclVersion)\n",
    "from PIL import Image, ImageTk\n",
    " "
   ]
  },
  {
   "cell_type": "code",
   "execution_count": 8,
   "id": "joint-bracelet",
   "metadata": {},
   "outputs": [
    {
     "ename": "NameError",
     "evalue": "name 'Font' is not defined",
     "output_type": "error",
     "traceback": [
      "\u001b[1;31m---------------------------------------------------------------------------\u001b[0m",
      "\u001b[1;31mNameError\u001b[0m                                 Traceback (most recent call last)",
      "\u001b[1;32m<ipython-input-8-110eaec94b96>\u001b[0m in \u001b[0;36m<module>\u001b[1;34m\u001b[0m\n\u001b[0;32m      4\u001b[0m \u001b[1;33m\u001b[0m\u001b[0m\n\u001b[0;32m      5\u001b[0m     \u001b[1;31m# create a font\u001b[0m\u001b[1;33m\u001b[0m\u001b[1;33m\u001b[0m\u001b[1;33m\u001b[0m\u001b[0m\n\u001b[1;32m----> 6\u001b[1;33m     \u001b[0mf\u001b[0m \u001b[1;33m=\u001b[0m \u001b[0mFont\u001b[0m\u001b[1;33m(\u001b[0m\u001b[0mfamily\u001b[0m\u001b[1;33m=\u001b[0m\u001b[1;34m\"times\"\u001b[0m\u001b[1;33m,\u001b[0m \u001b[0msize\u001b[0m\u001b[1;33m=\u001b[0m\u001b[1;36m30\u001b[0m\u001b[1;33m,\u001b[0m \u001b[0mweight\u001b[0m\u001b[1;33m=\u001b[0m\u001b[0mNORMAL\u001b[0m\u001b[1;33m)\u001b[0m\u001b[1;33m\u001b[0m\u001b[1;33m\u001b[0m\u001b[0m\n\u001b[0m\u001b[0;32m      7\u001b[0m \u001b[1;33m\u001b[0m\u001b[0m\n\u001b[0;32m      8\u001b[0m     \u001b[0mprint\u001b[0m\u001b[1;33m(\u001b[0m\u001b[0mf\u001b[0m\u001b[1;33m.\u001b[0m\u001b[0mactual\u001b[0m\u001b[1;33m(\u001b[0m\u001b[1;33m)\u001b[0m\u001b[1;33m)\u001b[0m\u001b[1;33m\u001b[0m\u001b[1;33m\u001b[0m\u001b[0m\n",
      "\u001b[1;31mNameError\u001b[0m: name 'Font' is not defined"
     ]
    }
   ],
   "source": [
    "if __name__ == \"__main__\":\n",
    "\n",
    "    root = tkinter.Tk()\n",
    "\n",
    "    # create a font\n",
    "    f = Font(family=\"times\", size=30, weight=NORMAL)\n",
    "\n",
    "    print(f.actual())\n",
    "    print(f.actual(\"family\"))\n",
    "    print(f.actual(\"weight\"))\n",
    "\n",
    "    print(f.config())\n",
    "    print(f.cget(\"family\"))\n",
    "    print(f.cget(\"weight\"))\n",
    "\n",
    "    print(names())\n",
    "\n",
    "    print(f.measure(\"hello\"), f.metrics(\"linespace\"))\n",
    "\n",
    "    print(f.metrics(displayof=root))\n",
    "\n",
    "    f = Font(font=(\"Courier\", 20, \"bold\"))\n",
    "    print(f.measure(\"hello\"), f.metrics(\"linespace\", displayof=root))\n",
    "\n",
    "    w = tkinter.Label(root, text=\"Hello, world\", font=f)\n",
    "    w.pack()\n",
    "\n",
    "    w = tkinter.Button(root, text=\"Quit!\", command=root.destroy)\n",
    "    w.pack()\n",
    "\n",
    "    fb = Font(font=w[\"font\"]).copy()\n",
    "    fb.config(weight=BOLD)\n",
    "\n",
    "    w.config(font=fb)\n",
    "\n",
    "    tkinter.mainloop()"
   ]
  },
  {
   "cell_type": "code",
   "execution_count": null,
   "id": "final-broadway",
   "metadata": {},
   "outputs": [],
   "source": []
  }
 ],
 "metadata": {
  "kernelspec": {
   "display_name": "Python 3",
   "language": "python",
   "name": "python3"
  },
  "language_info": {
   "codemirror_mode": {
    "name": "ipython",
    "version": 3
   },
   "file_extension": ".py",
   "mimetype": "text/x-python",
   "name": "python",
   "nbconvert_exporter": "python",
   "pygments_lexer": "ipython3",
   "version": "3.7.8"
  }
 },
 "nbformat": 4,
 "nbformat_minor": 5
}
